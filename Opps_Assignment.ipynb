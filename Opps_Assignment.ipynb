{
 "cells": [
  {
   "cell_type": "markdown",
   "id": "687c4a19",
   "metadata": {},
   "source": [
    "# OOP's ASSIGNMENT :"
   ]
  },
  {
   "cell_type": "markdown",
   "id": "227f1880",
   "metadata": {},
   "source": [
    "-           THERIOTICAL QUESTIONS :"
   ]
  },
  {
   "cell_type": "markdown",
   "id": "d3cad518",
   "metadata": {},
   "source": [
    "1. What is Object-Oriented Programming (OOP) ?\n",
    "* -> OOp's in the pyhton is the way to write the code using the class and objects, so that the code becomes reusable, organised and realistic."
   ]
  },
  {
   "cell_type": "markdown",
   "id": "5b3076b9",
   "metadata": {},
   "source": [
    "2. What is a class in OOP ?\n",
    "* -> Class in the OOP is nothing but the blueprint of the object. We can say it as the skeleton which can be common for all the instances of the class. "
   ]
  },
  {
   "cell_type": "markdown",
   "id": "9958a6c3",
   "metadata": {},
   "source": [
    "3. What is an object in OOP ?\n",
    "* -> Objects in the OOp is nohting but the instance of the class, through these objec ts we can access the data from the class."
   ]
  },
  {
   "cell_type": "markdown",
   "id": "57d3f6ca",
   "metadata": {},
   "source": [
    "4. What is the difference between abstraction and encapsulation ?\n",
    "* ->            \n",
    "-           Abstraction :\n",
    "* Abstraction is the process of creating the abstract classes under which the abstract methods are defined.\n",
    "* These abstract methods are only declared in the abstract class but defined outside in the instances of that class.\n",
    "* Abstract classes need to be instantiated and the same abstract methods are used in the instances.\n",
    "* The abstract keyword is used.\n",
    "-           Encapsulation :\n",
    "* Encapsulation means hiding the unwanted details or the complex implementation of the class.\n",
    "* Encapsulation can be achieved using the access specifiers :\n",
    "-           1. public :\n",
    "* In which the methods and the attributes declared in the class can be used outside the class and also in subclasses and even also in another modules.\n",
    "* By default the data is public.\n",
    "* eg. self.number = number \n",
    "-           protected :\n",
    "* The data or the attributes which is declared inside the class under the protected access specifier then it can only be accessed in the same class and its subclass.\n",
    "* Protected attributes are declared using the single underscore (\"_\")\n",
    "* eg : self._number = number \n",
    "-           private :\n",
    "* THe data or the methods or the attributes which is declared in the class under the private access specifier, it can be only accessed in the same class and not evev in the subclass.\n",
    "* It is declared using the double underscore (\"__\")\n",
    "* eg. self.__number = number"
   ]
  },
  {
   "cell_type": "markdown",
   "id": "6806d75b",
   "metadata": {},
   "source": [
    "5. What are dunder methods in Python ?\n",
    "* -> Dunder in the python stands for the d+under ie. double underscore, which means that the methods which starts and ends with the double underscore is called as the dunder method's.\n",
    "* In python it is also said as the magic or special methods.\n",
    "to see all the magic methods related to the strings just type : \"dir (str)\" and for int just type \"dir (int)\"\n",
    "* These methods are predefined in the special classes of the python we can say it as the inbuilt.\n",
    "* This methods generally causes the method overloading in the python.  "
   ]
  },
  {
   "cell_type": "markdown",
   "id": "f318e97e",
   "metadata": {},
   "source": [
    "6. Explain the concept of inheritance in OOP ?\n",
    "* -> Inheritance in the python is the process of the accessing the data by the child or the base class from the parentr or the super class.\n",
    "* It is the process in which the child class access the data from its parent class through which it is inherited.\n",
    "* Their are 4 types of inheritance in python based on the number of child or parent classes involved in the inheritance :\n",
    "-           1. Single Inheritance :\n",
    "* Here the single child inherits the properties from the single parent.\n",
    "-           2. Multilevel Inheritance :\n",
    "* Here the one child is inheriting the properties from one base class but at the same time it is acting as the parent class for another child class.\n",
    "-           3. Multiple Inheritance :\n",
    "* Here an single child accessing the properties from the multiple parents.\n",
    "-           4. Hierarchical Inheritance :\n",
    "* Here multiple childs are inherited from the single parent.\n",
    "-           5. Hybrid Inheritance :\n",
    "* Here their is the combination of the different types of inheritances.\n",
    "\n",
    "\n",
    "\n",
    "\n",
    "\n",
    "\n",
    "\n",
    "\n",
    "\n",
    "\n",
    "\n",
    "\n",
    "\n",
    "\n",
    "\n",
    "\n",
    "\n",
    "\n",
    "\n",
    "\n",
    "\n",
    "\n",
    "\n",
    "\n",
    "\n",
    "\n",
    "\n",
    "\n",
    "\n",
    "\n",
    "\n",
    "\n",
    "\n",
    "\n",
    "\n",
    "\n",
    "\n",
    "\n",
    "\n",
    "\n",
    "\n",
    "\n",
    "\n",
    "\n",
    "\n",
    "\n"
   ]
  },
  {
   "cell_type": "markdown",
   "id": "391b9475",
   "metadata": {},
   "source": [
    "7. What is polymorphism in OOP ?\n",
    "* -> Poly means many or multiple, form means forms, hence polymorphism means the one thing that can be used in multiple forms.\n",
    "* Polymorphism in the python can be achieved in the two ways :\n",
    "1.          Method overloading :"
   ]
  },
  {
   "cell_type": "markdown",
   "id": "76af26b0",
   "metadata": {},
   "source": [
    "Method overloading is the process in which their are more than one methods with the same name but with different number or types of the parameters.\n",
    "* The single method can be used to perform the different tasks by varying the number or the type of the parameters.\n",
    "* Python truely doesn't support the true method overloading but by default it always calls the last method.\n",
    "* eg :  "
   ]
  },
  {
   "cell_type": "code",
   "execution_count": 5,
   "id": "08c8ce3f",
   "metadata": {},
   "outputs": [],
   "source": [
    "def add (a, b) :\n",
    "    return a+b\n",
    "def add (a, b, c) :\n",
    "    return a+b+c\n",
    "def add (a, b, c, d) :\n",
    "    return a+b+c+d"
   ]
  },
  {
   "cell_type": "markdown",
   "id": "5805df17",
   "metadata": {},
   "source": [
    "2.          Method overriding:\n",
    "* Method overriding id the process in which the same method is re-written in the child class which is already declared in the parent class and when we class that method then the child class method is called not parent.\n",
    "* In order to call the parent class method the super () method is used before declaring it again in the child class."
   ]
  },
  {
   "cell_type": "markdown",
   "id": "9860159b",
   "metadata": {},
   "source": [
    "8. How is encapsulation achieved in Python ?\n",
    "* ->           Encapsulation :\n",
    "* Encapsulation means hiding the unwanted details or the complex implementation of the class.\n",
    "* Encapsulation can be achieved using the access specifiers :\n",
    "-           1. public :\n",
    "* In which the methods and the attributes declared in the class can be used outside the class and also in subclasses and even also in another modules.\n",
    "* By default the data is public.\n",
    "* eg. self.number = number \n",
    "-           protected :\n",
    "* The data or the attributes which is declared inside the class under the protected access specifier then it can only be accessed in the same class and its subclass.\n",
    "* Protected attributes are declared using the single underscore (\"_\")\n",
    "* eg : self._number = number \n",
    "-           private :\n",
    "* THe data or the methods or the attributes which is declared in the class under the private access specifier, it can be only accessed in the same class and not evev in the subclass.\n",
    "* It is declared using the double underscore (\"__\")\n",
    "* eg. self.__number = number"
   ]
  },
  {
   "cell_type": "markdown",
   "id": "9ce474ab",
   "metadata": {},
   "source": [
    "9. What is a constructor in Python ?\n",
    "* -> Constructor in the python is the member function or we can say the special method that can be used to initialize the attributes of the individual instance of the class.\n",
    "* Constructor gets invoked automatically when we create the object or the instance of the class. "
   ]
  },
  {
   "cell_type": "markdown",
   "id": "46a52d62",
   "metadata": {},
   "source": [
    "10. What are class and static methods in Python ?\n",
    "* -> A class method is a method that works with the class itself, not with individual objects.\n",
    "\n",
    "* It is defined using the @classmethod decorator.\n",
    "\n",
    "* It takes cls (the class) as its first parameter instead of self.\n",
    "* Use a class method when you want to change or access class-level data that is common to all objects.\n",
    "* \n",
    "* A static method does not work with class or instance data.\n",
    "\n",
    "* It’s like a normal function but kept inside the class for better organization.\n",
    "\n",
    "* It is defined using the @staticmethod decorator.\n",
    "\n",
    "* It doesn’t take self or cls as a parameter.\n",
    "* Use a static method when you want to perform a task that’s related to the class, but doesn’t need to access any class or object variables."
   ]
  },
  {
   "cell_type": "markdown",
   "id": "d307e640",
   "metadata": {},
   "source": [
    "11. What is method overloading in Python ?\n",
    "* ->Method overloading means having multiple methods with the same name but different parameters (like different number or types of arguments).\n",
    "* It allows a class to have more than one method with the same name — but each behaves differently depending on how it is called.\n",
    "* Python does not support method overloading directly like Java or C++.\n",
    "If you define two methods with the same name, the last one defined will overwrite the previous ones."
   ]
  },
  {
   "cell_type": "markdown",
   "id": "37def9e1",
   "metadata": {},
   "source": [
    "12. What is method overriding in OOP ?\n",
    "* ->Method overriding means redefining a method that already exists in the parent class inside the child class.\n",
    "* When a child class has a method with the same name as a method in its parent class, the child’s method replaces (overrides) the parent’s version when called through the child object."
   ]
  },
  {
   "cell_type": "markdown",
   "id": "d8a2f39a",
   "metadata": {},
   "source": [
    "13. What is a property decorator in Python?\n",
    "*->A property decorator in Python is used to turn a method into a “getter” — that is, it allows you to access a method like an attribute (without parentheses).\n",
    "* It lets you use a method as if it were a variable, making your class more clean and readable.\n",
    "* We can access the method of the class like the attribute."
   ]
  },
  {
   "cell_type": "markdown",
   "id": "835ef261",
   "metadata": {},
   "source": [
    "14. Why is polymorphism important in OOP ?\n",
    "* ->The word polymorphism means “many forms”.\n",
    "* In OOP, polymorphism allows one function name or operator to behave differently based on the object or data type it is working with.\n",
    "* “The same function or method can perform different actions depending on the object that calls it.”"
   ]
  },
  {
   "cell_type": "markdown",
   "id": "2d352827",
   "metadata": {},
   "source": [
    "15. What is an abstract class in Python ?\n",
    "* ->An abstract class is a class that cannot be directly used to create objects.It is meant to be a blueprint for other classes.\n",
    "* An abstract class is like a template that tells what methods a child class should have — but does not provide the full implementation."
   ]
  },
  {
   "cell_type": "markdown",
   "id": "ff302969",
   "metadata": {},
   "source": [
    "16. What are the advantages of OOP ?\n",
    "* ->Object-Oriented Programming (OOP) is a programming style that organizes code into objects — real-world entities that have data (attributes) and behavior (methods).\n",
    "* OOP makes programming easier, cleaner, reusable, and closer to real-life thinking.\n",
    "* OOP increses the reusability, modularity, data security, flexibility of the code."
   ]
  },
  {
   "cell_type": "markdown",
   "id": "0423f569",
   "metadata": {},
   "source": [
    "17. What is the difference between a class variable and an instance variable ?\n",
    "* ->\n",
    "1.          Instance Variable :\n",
    "* Belongs to each object (instance) of a class.\n",
    "\n",
    "* Each object has its own separate copy of the variable.\n",
    "\n",
    "* Defined inside the constructor (__init__) using self.\n",
    "2.          Class Variable :\n",
    "* Belongs to the class, not to individual objects.\n",
    "\n",
    "* Shared by all objects of the class.\n",
    "\n",
    "* Defined outside methods, directly inside the class.\n"
   ]
  },
  {
   "cell_type": "markdown",
   "id": "8399b105",
   "metadata": {},
   "source": [
    "18. What is multiple inheritance in Python ?\n",
    "* ->Multiple inheritance means a child class can inherit from more than one parent class.\n",
    "* One class can get properties and methods from two or more classes at the same time.\n",
    "* If two parent classes have the same method, Python uses Method Resolution Order (MRO) to decide which one to use."
   ]
  },
  {
   "cell_type": "markdown",
   "id": "9e735b25",
   "metadata": {},
   "source": [
    "19. Explain the purpose of ‘’__str__’ and ‘__repr__’ ‘ methods in Python ?\n",
    "* -> Both are special methods in Python that define how an object is represented as a string.They are used when you print an object or view it in the console.\n",
    "-           __str__ Method :\n",
    "* Purpose: Returns a user-friendly string representation of the object.\n",
    "* Called by: print(object) or str(object)\n",
    "-           __repr__ Method :\n",
    "* Purpose: Returns a developer-friendly string representation of the object.\n",
    "* Called by: repr(object) or when the object is shown in the interactive console\n",
    "* Should ideally be a valid Python expression to recreate the object."
   ]
  },
  {
   "cell_type": "markdown",
   "id": "44e0612a",
   "metadata": {},
   "source": [
    "20. What is the significance of the ‘super()’ function in Python ?\n",
    "* -> The super() function is used to call a method from the parent (or base) class in a child class.\n",
    "* It helps the child class access methods or constructors of its parent class without explicitly naming the parent."
   ]
  },
  {
   "cell_type": "markdown",
   "id": "8f4c6ff5",
   "metadata": {},
   "source": [
    "21. What is the significance of the __del__ method in Python ?\n",
    "* ->The __del__ method is called a destructor in Python.\n",
    "It is a special method that is automatically invoked when an object is about to be destroyed (i.e., removed from memory).\n",
    "* It is used to clean up resources (like closing files, network connections, or releasing memory) before the object is deleted"
   ]
  },
  {
   "cell_type": "markdown",
   "id": "53637ddd",
   "metadata": {},
   "source": [
    "22. What is the difference between @staticmethod and @classmethod in Python ?\n",
    "* ->        \n",
    "1.          @staticmethod :\n",
    "* A static method does not access the instance (self) or class (cls) variables.\n",
    "* It’s like a normal function but belongs to the class namespace.\n",
    "* Defined using @staticmethod decorator.\n",
    "2.          @classmethod :\n",
    "* A class method works with the class itself, not an instance.\n",
    "* Takes cls as the first parameter.\n",
    "* Defined using @classmethod decorator."
   ]
  },
  {
   "cell_type": "markdown",
   "id": "8533e4bf",
   "metadata": {},
   "source": [
    "23. How does polymorphism work in Python with inheritance ?\n",
    "* ->Polymorphism means “many forms” — the same method name can behave differently depending on the object calling it.\n",
    "* When combined with inheritance, polymorphism allows a child class to provide its own implementation of a method defined in the parent class. This is done through method overriding."
   ]
  },
  {
   "cell_type": "markdown",
   "id": "0c9e2da8",
   "metadata": {},
   "source": [
    "24. What is method chaining in Python OOP ?\n",
    "* ->Method chaining is a technique in Python where multiple methods are called on the same object in a single line.\n",
    "* After calling a method, instead of stopping, you call another method on the same object immediately.\n",
    "* Each method returns self, i.e., the same object.\n",
    "* This allows calling the next method directly on the returned object."
   ]
  },
  {
   "cell_type": "markdown",
   "id": "42d362c4",
   "metadata": {},
   "source": [
    "25. What is the purpose of the __call__ method in Python ?\n",
    "* ->The __call__ method is a special method in Python that allows an object of a class to be called like a function.\n",
    "* If a class defines __call__, its objects can be used with parentheses () just like a function."
   ]
  },
  {
   "cell_type": "markdown",
   "id": "e4d60a8c",
   "metadata": {},
   "source": [
    "-           PRACTICAL QUESTIONS :\n"
   ]
  },
  {
   "cell_type": "markdown",
   "id": "0e1d515f",
   "metadata": {},
   "source": [
    "1. Create a parent class Animal with a method speak() that prints a generic message. Create a child class Dog\n",
    "that overrides the speak() method to print \"Bark!\"."
   ]
  },
  {
   "cell_type": "code",
   "execution_count": null,
   "id": "997222e4",
   "metadata": {},
   "outputs": [
    {
     "name": "stdout",
     "output_type": "stream",
     "text": [
      "Bark!\n"
     ]
    }
   ],
   "source": [
    "class Animal :\n",
    "    def speak (self) :\n",
    "        print (\"Animal make's sound!\")\n",
    "class Dog (Animal) :\n",
    "    def speak (self) :\n",
    "        print (\"Bark!\")\n",
    "        \n",
    "GS = Dog ()\n",
    "GS.speak ()    #  Overrides the parent class method."
   ]
  },
  {
   "cell_type": "markdown",
   "id": "9b7791ff",
   "metadata": {},
   "source": [
    "2. Write a program to create an abstract class Shape with a method area(). Derive classes Circle and Rectangle\n",
    "from it and implement the area() method in both."
   ]
  },
  {
   "cell_type": "code",
   "execution_count": 22,
   "id": "70db91b4",
   "metadata": {},
   "outputs": [
    {
     "name": "stdout",
     "output_type": "stream",
     "text": [
      "Area of circle is : 78.5 m^2\n",
      "Area of rectangle is : 20 m^2\n"
     ]
    }
   ],
   "source": [
    "from abc import ABC, abstractmethod\n",
    "class Shape (ABC) :\n",
    "    @abstractmethod\n",
    "    def area (self) :\n",
    "        pass\n",
    "class Circle (Shape) :\n",
    "    def area(self, radius):\n",
    "        return f\"Area of circle is : {3.14*radius**2} m^2\"\n",
    "class Rectangle (Shape) :\n",
    "    def area (self, length, breadth) :\n",
    "        return f\"Area of rectangle is : {length*breadth} m^2\"\n",
    "    \n",
    "cir = Circle ()\n",
    "rect = Rectangle ()\n",
    "print (cir.area (5))\n",
    "print (rect.area(5, 4))"
   ]
  },
  {
   "cell_type": "markdown",
   "id": "20224738",
   "metadata": {},
   "source": [
    "3. Implement a multi-level inheritance scenario where a class Vehicle has an attribute type. Derive a class Car\n",
    "and further derive a class ElectricCar that adds a battery attribute."
   ]
  },
  {
   "cell_type": "code",
   "execution_count": 46,
   "id": "7f368fff",
   "metadata": {},
   "outputs": [],
   "source": [
    "class Vehicle :\n",
    "    def __init__ (self, type) :\n",
    "        self.type = type\n",
    "        \n",
    "class Car (Vehicle) :\n",
    "    def __init__ (self, type, battery) :\n",
    "        super ().__init__ (type) \n",
    "        self.battery  = battery\n",
    "        print (f\"Car type is : {self.type} and battery is : {self.battery}\")\n",
    "        \n",
    "class ElectricCar (Car) :\n",
    "    def __init__ (self, type, battery) :\n",
    "        super ().__init__ ( type, battery) \n",
    "        self.battery  = battery\n",
    "        print (f\"Electric Car type is : {self.type} and battery is : {self.battery}\")"
   ]
  },
  {
   "cell_type": "code",
   "execution_count": 47,
   "id": "089f3ec5",
   "metadata": {},
   "outputs": [
    {
     "name": "stdout",
     "output_type": "stream",
     "text": [
      "Car type is : E-Vehicle and battery is : Ev battry\n",
      "Electric Car type is : E-Vehicle and battery is : Ev battry\n"
     ]
    }
   ],
   "source": [
    "\n",
    "nexon = ElectricCar (\"E-Vehicle\",\"Ev battry\")\n"
   ]
  },
  {
   "cell_type": "markdown",
   "id": "fe1382be",
   "metadata": {},
   "source": [
    "4. Demonstrate polymorphism by creating a base class Bird with a method fly(). Create two derived classes\n",
    "Sparrow and Penguin that override the fly() method.\n"
   ]
  },
  {
   "cell_type": "code",
   "execution_count": 52,
   "id": "7810f90e",
   "metadata": {},
   "outputs": [
    {
     "name": "stdout",
     "output_type": "stream",
     "text": [
      "Bird can fly!\n",
      "Sparrow can fly fast!\n",
      "Penguin can not fly!\n"
     ]
    }
   ],
   "source": [
    "class Bird :\n",
    "    def fly (self) :\n",
    "        print (\"Bird can fly!\")\n",
    "        \n",
    "class Sparrow (Bird) :\n",
    "    def fly (self) :\n",
    "        print (\"Sparrow can fly fast!\")\n",
    "        \n",
    "class Penguin (Bird) :\n",
    "    def fly (self) :\n",
    "        print (\"Penguin can not fly!\")\n",
    "        \n",
    "bd = Bird ()\n",
    "sp = Sparrow ()\n",
    "pg = Penguin ()\n",
    "\n",
    "bd.fly ()\n",
    "sp.fly()\n",
    "pg.fly ()"
   ]
  },
  {
   "cell_type": "markdown",
   "id": "53c29fb8",
   "metadata": {},
   "source": [
    "5. Write a program to demonstrate encapsulation by creating a class BankAccount with private attributes\n",
    "balance and methods to deposit, withdraw, and check balance."
   ]
  },
  {
   "cell_type": "code",
   "execution_count": 58,
   "id": "513a7e00",
   "metadata": {},
   "outputs": [],
   "source": [
    "class BankAccount :\n",
    "    def __init__ (self, balance) :\n",
    "        self.__balance = balance\n",
    "        \n",
    "    def deposit (self, amount) :\n",
    "        self.__balance += amount\n",
    "        print (\"Deposited Succesfully!\")\n",
    "        \n",
    "    def withdraw (self, amount) :\n",
    "        if amount > 0 :\n",
    "            self.__balance -= amount\n",
    "            print (\"Withdrawn Succesfully!\")\n",
    "        \"Invalid amount\"\n",
    "        \n",
    "    def check (self) :\n",
    "        return f\"Total balance is : {self.__balance}\" \n",
    "    \n",
    "account1 = BankAccount (1000)"
   ]
  },
  {
   "cell_type": "code",
   "execution_count": null,
   "id": "fdee1688",
   "metadata": {},
   "outputs": [
    {
     "ename": "AttributeError",
     "evalue": "'BankAccount' object has no attribute '__balance'",
     "output_type": "error",
     "traceback": [
      "\u001b[31m---------------------------------------------------------------------------\u001b[39m",
      "\u001b[31mAttributeError\u001b[39m                            Traceback (most recent call last)",
      "\u001b[36mCell\u001b[39m\u001b[36m \u001b[39m\u001b[32mIn[55]\u001b[39m\u001b[32m, line 1\u001b[39m\n\u001b[32m----> \u001b[39m\u001b[32m1\u001b[39m \u001b[43maccount1\u001b[49m\u001b[43m.\u001b[49m\u001b[43m__balance\u001b[49m\n",
      "\u001b[31mAttributeError\u001b[39m: 'BankAccount' object has no attribute '__balance'"
     ]
    }
   ],
   "source": [
    "account1.__balance   # Private var can't be accessed"
   ]
  },
  {
   "cell_type": "code",
   "execution_count": 59,
   "id": "fed827cd",
   "metadata": {},
   "outputs": [
    {
     "name": "stdout",
     "output_type": "stream",
     "text": [
      "Deposited Succesfully!\n"
     ]
    },
    {
     "data": {
      "text/plain": [
       "'Total balance is : 3000'"
      ]
     },
     "execution_count": 59,
     "metadata": {},
     "output_type": "execute_result"
    }
   ],
   "source": [
    "account1.deposit(2000)\n",
    "account1.check ()"
   ]
  },
  {
   "cell_type": "code",
   "execution_count": 60,
   "id": "2db8addc",
   "metadata": {},
   "outputs": [
    {
     "name": "stdout",
     "output_type": "stream",
     "text": [
      "Withdrawn Succesfully!\n"
     ]
    },
    {
     "data": {
      "text/plain": [
       "'Total balance is : 1500'"
      ]
     },
     "execution_count": 60,
     "metadata": {},
     "output_type": "execute_result"
    }
   ],
   "source": [
    "account1.withdraw (1500)\n",
    "account1.check ()"
   ]
  },
  {
   "cell_type": "markdown",
   "id": "eaa8cbd4",
   "metadata": {},
   "source": [
    "6. Demonstrate runtime polymorphism using a method play() in a base class Instrument. Derive classes Guitar\n",
    "and Piano that implement their own version of play()."
   ]
  },
  {
   "cell_type": "code",
   "execution_count": 67,
   "id": "5a70ff0c",
   "metadata": {},
   "outputs": [
    {
     "name": "stdout",
     "output_type": "stream",
     "text": [
      "Playing the Guitar !\n",
      "Playing the Piano !\n"
     ]
    }
   ],
   "source": [
    "class Instrument :\n",
    "    def play (self) :\n",
    "        pass\n",
    "class Guitar (Instrument) :\n",
    "    def play (self) :\n",
    "        print (\"Playing the Guitar !\")\n",
    "        \n",
    "class Piano (Instrument) :\n",
    "    def play (self) :\n",
    "        print (\"Playing the Piano !\")\n",
    "        \n",
    "gui = Guitar ()\n",
    "pia = Piano ()\n",
    "\n",
    "gui.play ()\n",
    "pia.play ()"
   ]
  },
  {
   "cell_type": "markdown",
   "id": "4ee23276",
   "metadata": {},
   "source": [
    "7. Create a class MathOperations with a class method add_numbers() to add two numbers and a static\n",
    "method subtract_numbers() to subtract two numbers."
   ]
  },
  {
   "cell_type": "code",
   "execution_count": null,
   "id": "f73fb256",
   "metadata": {},
   "outputs": [],
   "source": [
    "class MathOperations :\n",
    "    def add_numbers (self, x, y) :\n",
    "        return x+y\n",
    "    @staticmethod\n",
    "    def subtract_numbers (x, y) :\n",
    "        return x-y"
   ]
  },
  {
   "cell_type": "code",
   "execution_count": null,
   "id": "7a9dded4",
   "metadata": {},
   "outputs": [
    {
     "name": "stdout",
     "output_type": "stream",
     "text": [
      "10\n",
      "5\n"
     ]
    }
   ],
   "source": [
    "obj = MathOperations ()\n",
    "print(obj.add_numbers (5, 5))       \n",
    "print(MathOperations.subtract_numbers (10, 5))   # Calling without obj"
   ]
  },
  {
   "cell_type": "code",
   "execution_count": 81,
   "id": "116e4e92",
   "metadata": {},
   "outputs": [
    {
     "name": "stdout",
     "output_type": "stream",
     "text": [
      "15\n",
      "5\n"
     ]
    }
   ],
   "source": [
    "\n",
    "\n",
    "\n",
    "class MathOperations :\n",
    "    def __init__(self, x, y):\n",
    "        self.x = x\n",
    "        self.y = y\n",
    "    def add_numbers (self, x, y) :\n",
    "        return self.x + self.y\n",
    "    @staticmethod\n",
    "    def subtract_numbers (x, y) :\n",
    "        return x - y\n",
    "    \n",
    "obj = MathOperations (10, 5)\n",
    "print(obj.add_numbers (5, 5))       \n",
    "print(MathOperations.subtract_numbers (10, 5))   # Calling without obj"
   ]
  },
  {
   "cell_type": "markdown",
   "id": "d6d29776",
   "metadata": {},
   "source": [
    "8. Implement a class Person with a class method to count the total number of persons created."
   ]
  },
  {
   "cell_type": "code",
   "execution_count": 101,
   "id": "56b9138e",
   "metadata": {},
   "outputs": [
    {
     "name": "stdout",
     "output_type": "stream",
     "text": [
      "Total persons created : 1\n",
      "Total persons created : 2\n",
      "Total persons created : 3\n"
     ]
    }
   ],
   "source": [
    "class Person :\n",
    "    temp = 0\n",
    "    def __init__ (self) :\n",
    "        self.__class__.temp += 1\n",
    "        print (f\"Total persons created : {self.__class__.temp}\")\n",
    "        \n",
    "person1 = Person ()\n",
    "person2 = Person ()\n",
    "person3 = Person ()\n"
   ]
  },
  {
   "cell_type": "markdown",
   "id": "b7b8c385",
   "metadata": {},
   "source": [
    "9. Write a class Fraction with attributes numerator and denominator. Override the str method to display the\n",
    "fraction as \"numerator/denominator\"."
   ]
  },
  {
   "cell_type": "code",
   "execution_count": 118,
   "id": "5c7f2937",
   "metadata": {},
   "outputs": [],
   "source": [
    "class Fraction :\n",
    "    def __init__(self, numerator, denominator) :\n",
    "        self.numerator = numerator\n",
    "        self.denominator = denominator\n",
    "    def __str__(self) :\n",
    "      return f\"{self.numerator/self.denominator}\"\n",
    "        "
   ]
  },
  {
   "cell_type": "code",
   "execution_count": 119,
   "id": "e6ad6c1a",
   "metadata": {},
   "outputs": [
    {
     "data": {
      "text/plain": [
       "'10.0'"
      ]
     },
     "execution_count": 119,
     "metadata": {},
     "output_type": "execute_result"
    }
   ],
   "source": [
    "ft = Fraction (20, 2)\n",
    "str(ft)"
   ]
  },
  {
   "cell_type": "markdown",
   "id": "5fd14503",
   "metadata": {},
   "source": [
    "10. Demonstrate operator overloading by creating a class Vector and overriding the add method to add two\n",
    "vectors."
   ]
  },
  {
   "cell_type": "code",
   "execution_count": 123,
   "id": "57dce03f",
   "metadata": {},
   "outputs": [
    {
     "name": "stdout",
     "output_type": "stream",
     "text": [
      "Vector(2, 4)\n"
     ]
    }
   ],
   "source": [
    "class Vector :\n",
    "    def __init__ (self, x, y) :\n",
    "        self.x = x\n",
    "        self.y = y\n",
    "    def __add__ (self, other) :\n",
    "        return Vector (self.x + other.x, self.y + other.y)\n",
    "    def __str__(self):\n",
    "        return f\"Vector({self.x}, {self.y})\"\n",
    "    \n",
    "p1 = Vector (1, 2)\n",
    "p2 = Vector (1, 2)\n",
    "p3 = p1 + p2\n",
    "# print (p3.x, p3.y)\n",
    "print (p3)"
   ]
  },
  {
   "cell_type": "markdown",
   "id": "09348131",
   "metadata": {},
   "source": [
    "11. Create a class Person with attributes name and age. Add a method greet() that prints \"Hello, my name is\n",
    "{name} and I am {age} years old.\""
   ]
  },
  {
   "cell_type": "code",
   "execution_count": 135,
   "id": "d6b9ac8d",
   "metadata": {},
   "outputs": [],
   "source": [
    "class Person :\n",
    "    def __init__(self, name, age):\n",
    "        self.name = name\n",
    "        self.age = age\n",
    "    def greet (self) :\n",
    "        print (f\"Hello, my name is {self.name} and I am {self.age} years old.\")\n",
    "        "
   ]
  },
  {
   "cell_type": "code",
   "execution_count": 137,
   "id": "7f224040",
   "metadata": {},
   "outputs": [
    {
     "name": "stdout",
     "output_type": "stream",
     "text": [
      "Hello, my name is Alice and I am 21 years old.\n",
      "Hello, my name is Bob and I am 23 years old.\n"
     ]
    }
   ],
   "source": [
    "person1 = Person (\"Alice\", 21)\n",
    "person2 = Person (\"Bob\", 23)\n",
    "\n",
    "person1.greet ()\n",
    "person2.greet ()"
   ]
  },
  {
   "cell_type": "markdown",
   "id": "496b87fa",
   "metadata": {},
   "source": [
    "12. Implement a class Student with attributes name and grades. Create a method average_grade() to compute\n",
    "the average of the grades."
   ]
  },
  {
   "cell_type": "code",
   "execution_count": 140,
   "id": "8c520d56",
   "metadata": {},
   "outputs": [
    {
     "name": "stdout",
     "output_type": "stream",
     "text": [
      "Name = Alice\n",
      "Average Grade = 81.0\n",
      "Name = Bob\n",
      "Average Grade = 83.66666666666667\n"
     ]
    }
   ],
   "source": [
    "class Student :\n",
    "    def __init__ (self, name, grade1, grade2, grade3) :\n",
    "        self.name = name\n",
    "        self.grade1 = grade1\n",
    "        self.grade2 = grade2\n",
    "        self.grade3 = grade3\n",
    "    def average_grade (self) :\n",
    "        avg = (self.grade1+self.grade2+self.grade3)/3\n",
    "        print (f\"Name = {self.name}\\nAverage Grade = {avg}\")\n",
    "stud1 = Student(\"Alice\", 78, 80, 85)\n",
    "stud2 = Student (\"Bob\", 77, 83, 91)\n",
    "\n",
    "stud1.average_grade ()\n",
    "stud2.average_grade ()"
   ]
  },
  {
   "cell_type": "markdown",
   "id": "7fe0c512",
   "metadata": {},
   "source": [
    "13. Create a class Rectangle with methods set_dimensions() to set the dimensions and area() to calculate the\n",
    "area."
   ]
  },
  {
   "cell_type": "code",
   "execution_count": null,
   "id": "5cc90c20",
   "metadata": {},
   "outputs": [
    {
     "name": "stdout",
     "output_type": "stream",
     "text": [
      "The area is : 120\n"
     ]
    }
   ],
   "source": [
    "class Rectangle :\n",
    "    def set_dimensions (self) :\n",
    "        self.l = int(input(\"Set length :\"))\n",
    "        self.b = int(input(\"Set breadth :\"))\n",
    "    def area (self) :\n",
    "        print (f\"The area is : {self.l * self.b}\")\n",
    "    \n",
    "rect = Rectangle ()           \n",
    "rect.set_dimensions ()    #b 10 and 12\n",
    "rect.area ()"
   ]
  },
  {
   "cell_type": "markdown",
   "id": "18c31f18",
   "metadata": {},
   "source": [
    "14. Create a class Employee with a method calculate_salary() that computes the salary based on hours worked\n",
    "and hourly rate. Create a derived class Manager that adds a bonus to the salary."
   ]
  },
  {
   "cell_type": "code",
   "execution_count": 145,
   "id": "8f8527d8",
   "metadata": {},
   "outputs": [
    {
     "name": "stdout",
     "output_type": "stream",
     "text": [
      "Total Salary is : 3200\n",
      "Total Salary with bonus is : 4200\n"
     ]
    }
   ],
   "source": [
    "class Employee :\n",
    "    def calculate_salary (self, hours_worked, hourly_rate) :\n",
    "        salary = hours_worked * hourly_rate\n",
    "        print (f\"Total Salary is : {salary}\")\n",
    "class Manager (Employee) :\n",
    "    def calculate_salary (self, hours_worked, hourly_rate) :\n",
    "        salary = hours_worked * hourly_rate + 1000  # Adding bonus\n",
    "        print (f\"Total Salary with bonus is : {salary}\")    \n",
    "emp = Employee ()\n",
    "mgr = Manager ()                \n",
    "emp.calculate_salary (160, 20)   # 3200\n",
    "mgr.calculate_salary (160, 20)   # 4200 \n"
   ]
  },
  {
   "cell_type": "markdown",
   "id": "4eae5064",
   "metadata": {},
   "source": [
    "15. Create a class Product with attributes name, price, and quantity. Implement a method total_price() that\n",
    "calculates the total price of the product."
   ]
  },
  {
   "cell_type": "code",
   "execution_count": 146,
   "id": "2ca5b208",
   "metadata": {},
   "outputs": [
    {
     "name": "stdout",
     "output_type": "stream",
     "text": [
      "Total price of Laptop is : 100000\n",
      "Total price of Phone is : 60000\n"
     ]
    }
   ],
   "source": [
    "class Product :\n",
    "    def __init__ (self, name, price, quantity) :\n",
    "        self.name = name\n",
    "        self.price = price\n",
    "        self.quantity = quantity\n",
    "    def total_price (self) :\n",
    "        total = self.price * self.quantity\n",
    "        print (f\"Total price of {self.name} is : {total}\")\n",
    "prod1 = Product (\"Laptop\", 50000, 2)\n",
    "prod2 = Product (\"Phone\", 20000, 3) \n",
    "prod1.total_price ()\n",
    "prod2.total_price ()    \n",
    " "
   ]
  },
  {
   "cell_type": "markdown",
   "id": "8970b6c1",
   "metadata": {},
   "source": [
    "16. Create a class Animal with an abstract method sound(). Create two derived classes Cow and Sheep that\n",
    "implement the sound() method."
   ]
  },
  {
   "cell_type": "code",
   "execution_count": 147,
   "id": "05979a60",
   "metadata": {},
   "outputs": [
    {
     "name": "stdout",
     "output_type": "stream",
     "text": [
      "Cow says Moo!\n",
      "Sheep says Baa!\n"
     ]
    }
   ],
   "source": [
    "class Animal (ABC) :\n",
    "    @abstractmethod\n",
    "    def sound (self) :\n",
    "        print (\"Animal makes a sound\")\n",
    "class Cow (Animal) :\n",
    "    def sound (self) :\n",
    "        print (\"Cow says Moo!\")\n",
    "class Sheep (Animal) :\n",
    "    def sound (self) :\n",
    "        print (\"Sheep says Baa!\")\n",
    "cow = Cow ()\n",
    "sheep = Sheep ()    \n",
    "cow.sound ()\n",
    "sheep.sound ()\n"
   ]
  },
  {
   "cell_type": "markdown",
   "id": "7787159d",
   "metadata": {},
   "source": [
    "17. Create a class Book with attributes title, author, and year_published. Add a method get_book_info() that\n",
    "returns a formatted string with the book's details."
   ]
  },
  {
   "cell_type": "code",
   "execution_count": 148,
   "id": "5bae76a7",
   "metadata": {},
   "outputs": [
    {
     "name": "stdout",
     "output_type": "stream",
     "text": [
      "Title: The Great Gatsby, Author: F. Scott Fitzgerald, Year Published: 1925\n",
      "Title: To Kill a Mockingbird, Author: Harper Lee, Year Published: 1960\n"
     ]
    }
   ],
   "source": [
    "class Book :\n",
    "    def __init__ (self, title, author, year_published) :\n",
    "        self.title = title\n",
    "        self.author = author\n",
    "        self.year_published = year_published\n",
    "    def get_book_info (self) :\n",
    "        return f\"Title: {self.title}, Author: {self.author}, Year Published: {self.year_published}\"\n",
    "book1 = Book (\"The Great Gatsby\", \"F. Scott Fitzgerald\", 1925)\n",
    "book2 = Book (\"To Kill a Mockingbird\", \"Harper Lee\", 1960)\n",
    "print (book1.get_book_info ())\n",
    "print (book2.get_book_info ())      "
   ]
  },
  {
   "cell_type": "markdown",
   "id": "cf862734",
   "metadata": {},
   "source": [
    "18. Create a class House with attributes address and price. Create a derived class Mansion that adds an\n",
    "attribute number_of_rooms."
   ]
  },
  {
   "cell_type": "code",
   "execution_count": 149,
   "id": "01e920b0",
   "metadata": {},
   "outputs": [
    {
     "name": "stdout",
     "output_type": "stream",
     "text": [
      "Address: 123 Luxury St, Price: 1000000, Number of Rooms: 10\n"
     ]
    }
   ],
   "source": [
    "class House  :\n",
    "    def __init__ (self, address, price ) :\n",
    "        self.address = address\n",
    "        self.price = price\n",
    "class Mansion (House) :\n",
    "    def __init__ (self, address, price, num_rooms) :\n",
    "        super().__init__ (address, price)\n",
    "        self.num_rooms = num_rooms\n",
    "    def get_mansion_info (self) :\n",
    "        return f\"Address: {self.address}, Price: {self.price}, Number of Rooms: {self.num_rooms}\"\n",
    "mansion1 = Mansion (\"123 Luxury St\", 1000000, 10)\n",
    "print (mansion1.get_mansion_info ())"
   ]
  }
 ],
 "metadata": {
  "kernelspec": {
   "display_name": "Python 3",
   "language": "python",
   "name": "python3"
  },
  "language_info": {
   "codemirror_mode": {
    "name": "ipython",
    "version": 3
   },
   "file_extension": ".py",
   "mimetype": "text/x-python",
   "name": "python",
   "nbconvert_exporter": "python",
   "pygments_lexer": "ipython3",
   "version": "3.13.7"
  }
 },
 "nbformat": 4,
 "nbformat_minor": 5
}
